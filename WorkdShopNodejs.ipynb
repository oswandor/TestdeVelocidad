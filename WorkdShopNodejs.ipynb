{
 "cells": [
  {
   "attachments": {},
   "cell_type": "markdown",
   "metadata": {},
   "source": [
    "## Introduction to Node.js\n",
    "\n",
    "Guía de introducción a Node.js, el entorno de tiempo de ejecución de JavaScript del lado del servidor. Node.js se basa en el motor JavaScript Google Chrome V8, y se utiliza principalmente para crear servidores web, pero no se limita a eso.\n",
    "\n",
    "\n",
    "\n",
    "Node.js es un entorno de tiempo de ejecución JavaScript de código abierto y multiplataforma. ¡Es una herramienta popular para casi cualquier tipo de proyecto!\n",
    "\n",
    "Node.js ejecuta el motor JavaScript V8, el núcleo de Google Chrome, fuera del navegador. Esto permite que Node.js sea muy eficiente.\n",
    "\n",
    "Una aplicación Node.js se ejecuta en un solo proceso, sin crear un nuevo subproceso para cada solicitud. Node.js proporciona un conjunto de primitivas de E/S asíncronas en su biblioteca estándar que evitan que el código JavaScript bloquee y, en general, las bibliotecas en Node.js se escriben utilizando paradigmas sin bloqueo, lo que hace que el comportamiento de bloqueo sea la excepción en lugar de la norma.\n",
    "\n",
    "Cuando Node.js realiza una operación de E/S, como leer desde la red, acceder a una base de datos o al sistema de archivos, en lugar de bloquear el subproceso y desperdiciar ciclos de CPU esperando, Node.js reanudará las operaciones cuando regrese la respuesta.\n",
    "\n",
    "Esto permite a Node.js manejar miles de conexiones simultáneas con un solo servidor sin introducir la carga de administrar la concurrencia de subprocesos, lo que podría ser una fuente importante de errores.\n",
    "\n",
    "Node.js tiene una ventaja única porque millones de desarrolladores frontend que escriben JavaScript para el navegador ahora pueden escribir el código del lado del servidor además del código del lado del cliente sin la necesidad de aprender un lenguaje completamente diferente.\n",
    "\n",
    "En Node.js los nuevos estándares ECMAScript se pueden usar sin problemas, ya que no tiene que esperar a que todos sus usuarios actualicen sus navegadores: usted está a cargo de decidir qué versión de ECMAScript usar cambiando la versión .js Node, y también puede habilitar características experimentales específicas ejecutando Node.js con banderas.\n",
    "\n",
    "## Un Ejemplo de aplicacion nodejs. \n",
    "\n",
    "El ejemplo más común de Hello World of Node.js es un servidor web:\n"
   ]
  },
  {
   "cell_type": "code",
   "execution_count": null,
   "metadata": {
    "vscode": {
     "languageId": "javascript"
    }
   },
   "outputs": [],
   "source": [
    "const http = require('http')\n",
    "\n",
    "\n",
    "const hostname = '127.0.0.1' \n",
    "const port = 3000 \n",
    "\n",
    "\n",
    "const server = http.createServer((req, res) => {\n",
    "    \n",
    "    res.statusCode = 200 \n",
    "    res.setHeader('Content-Type', 'text/plain')\n",
    "    res.end('Hello World')\n",
    "})\n",
    "\n",
    "\n",
    "server.listen(port, hostname, () => {\n",
    "    console.log(`Server running at http://${hostname}:${port}/`)\n",
    "  })"
   ]
  },
  {
   "attachments": {},
   "cell_type": "markdown",
   "metadata": {},
   "source": [
    "## ¿Cómo instalar Node.js? \n",
    "\n",
    "Cómo puede instalar Node.js en su sistema: un administrador de paquetes, el instalador del sitio web oficial o nvm\n",
    "\n",
    "\n",
    "Nodo.js se puede instalar de diferentes maneras. Esta publicación destaca los más comunes y convenientes. Los paquetes oficiales para todas las plataformas principales están disponibles en https://nodejs.dev/download/.\n",
    "\n",
    "Una forma muy conveniente de instalar Node.js es a través de un administrador de paquetes. En este caso, cada sistema operativo tiene el suyo. Otros administradores de paquetes para MacOS, Linux y Windows se enumeran en https://nodejs.dev/download/package-manager/\n",
    "\n",
    "nvm es una forma popular de ejecutar Node.js. Le permite cambiar fácilmente la versión .js Node e instalar nuevas versiones para intentar revertir fácilmente si algo se rompe. También es muy útil probar el código con versiones antiguas .js Node."
   ]
  }
 ],
 "metadata": {
  "language_info": {
   "name": "python"
  },
  "orig_nbformat": 4
 },
 "nbformat": 4,
 "nbformat_minor": 2
}
